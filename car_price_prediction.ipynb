{
 "cells": [
  {
   "cell_type": "markdown",
   "id": "47b8dbd3",
   "metadata": {},
   "source": [
    "### importing libraries"
   ]
  },
  {
   "cell_type": "code",
   "execution_count": 151,
   "id": "def78705",
   "metadata": {},
   "outputs": [],
   "source": [
    "import numpy as np\n",
    "import pandas as pd\n",
    "import matplotlib.pyplot as plt\n",
    "import seaborn as sns\n",
    "\n",
    "from sklearn.model_selection import train_test_split\n",
    "from sklearn.preprocessing import OneHotEncoder\n",
    "from sklearn.compose import make_column_transformer\n",
    "from sklearn.linear_model import LinearRegression\n",
    "from sklearn.pipeline import make_pipeline\n",
    "from sklearn.metrics import r2_score"
   ]
  },
  {
   "cell_type": "markdown",
   "id": "9b1394ba",
   "metadata": {},
   "source": [
    "### data gathering"
   ]
  },
  {
   "cell_type": "code",
   "execution_count": 152,
   "id": "add233c6",
   "metadata": {},
   "outputs": [],
   "source": [
    "df = pd.read_csv('quikr_car.csv')"
   ]
  },
  {
   "cell_type": "markdown",
   "id": "9534a177",
   "metadata": {},
   "source": [
    "### EDA"
   ]
  },
  {
   "cell_type": "code",
   "execution_count": 153,
   "id": "65a9b12f",
   "metadata": {},
   "outputs": [
    {
     "data": {
      "text/html": [
       "<div>\n",
       "<style scoped>\n",
       "    .dataframe tbody tr th:only-of-type {\n",
       "        vertical-align: middle;\n",
       "    }\n",
       "\n",
       "    .dataframe tbody tr th {\n",
       "        vertical-align: top;\n",
       "    }\n",
       "\n",
       "    .dataframe thead th {\n",
       "        text-align: right;\n",
       "    }\n",
       "</style>\n",
       "<table border=\"1\" class=\"dataframe\">\n",
       "  <thead>\n",
       "    <tr style=\"text-align: right;\">\n",
       "      <th></th>\n",
       "      <th>name</th>\n",
       "      <th>company</th>\n",
       "      <th>year</th>\n",
       "      <th>Price</th>\n",
       "      <th>kms_driven</th>\n",
       "      <th>fuel_type</th>\n",
       "    </tr>\n",
       "  </thead>\n",
       "  <tbody>\n",
       "    <tr>\n",
       "      <th>0</th>\n",
       "      <td>Hyundai Santro Xing XO eRLX Euro III</td>\n",
       "      <td>Hyundai</td>\n",
       "      <td>2007</td>\n",
       "      <td>80,000</td>\n",
       "      <td>45,000 kms</td>\n",
       "      <td>Petrol</td>\n",
       "    </tr>\n",
       "    <tr>\n",
       "      <th>1</th>\n",
       "      <td>Mahindra Jeep CL550 MDI</td>\n",
       "      <td>Mahindra</td>\n",
       "      <td>2006</td>\n",
       "      <td>4,25,000</td>\n",
       "      <td>40 kms</td>\n",
       "      <td>Diesel</td>\n",
       "    </tr>\n",
       "    <tr>\n",
       "      <th>2</th>\n",
       "      <td>Maruti Suzuki Alto 800 Vxi</td>\n",
       "      <td>Maruti</td>\n",
       "      <td>2018</td>\n",
       "      <td>Ask For Price</td>\n",
       "      <td>22,000 kms</td>\n",
       "      <td>Petrol</td>\n",
       "    </tr>\n",
       "    <tr>\n",
       "      <th>3</th>\n",
       "      <td>Hyundai Grand i10 Magna 1.2 Kappa VTVT</td>\n",
       "      <td>Hyundai</td>\n",
       "      <td>2014</td>\n",
       "      <td>3,25,000</td>\n",
       "      <td>28,000 kms</td>\n",
       "      <td>Petrol</td>\n",
       "    </tr>\n",
       "    <tr>\n",
       "      <th>4</th>\n",
       "      <td>Ford EcoSport Titanium 1.5L TDCi</td>\n",
       "      <td>Ford</td>\n",
       "      <td>2014</td>\n",
       "      <td>5,75,000</td>\n",
       "      <td>36,000 kms</td>\n",
       "      <td>Diesel</td>\n",
       "    </tr>\n",
       "  </tbody>\n",
       "</table>\n",
       "</div>"
      ],
      "text/plain": [
       "                                     name   company  year          Price  \\\n",
       "0    Hyundai Santro Xing XO eRLX Euro III   Hyundai  2007         80,000   \n",
       "1                 Mahindra Jeep CL550 MDI  Mahindra  2006       4,25,000   \n",
       "2              Maruti Suzuki Alto 800 Vxi    Maruti  2018  Ask For Price   \n",
       "3  Hyundai Grand i10 Magna 1.2 Kappa VTVT   Hyundai  2014       3,25,000   \n",
       "4        Ford EcoSport Titanium 1.5L TDCi      Ford  2014       5,75,000   \n",
       "\n",
       "   kms_driven fuel_type  \n",
       "0  45,000 kms    Petrol  \n",
       "1      40 kms    Diesel  \n",
       "2  22,000 kms    Petrol  \n",
       "3  28,000 kms    Petrol  \n",
       "4  36,000 kms    Diesel  "
      ]
     },
     "execution_count": 153,
     "metadata": {},
     "output_type": "execute_result"
    }
   ],
   "source": [
    "df.head()"
   ]
  },
  {
   "cell_type": "code",
   "execution_count": 154,
   "id": "6eb7ca6d",
   "metadata": {},
   "outputs": [
    {
     "data": {
      "text/plain": [
       "(892, 6)"
      ]
     },
     "execution_count": 154,
     "metadata": {},
     "output_type": "execute_result"
    }
   ],
   "source": [
    "df.shape"
   ]
  },
  {
   "cell_type": "code",
   "execution_count": 155,
   "id": "9e3effb2",
   "metadata": {},
   "outputs": [
    {
     "name": "stdout",
     "output_type": "stream",
     "text": [
      "<class 'pandas.core.frame.DataFrame'>\n",
      "RangeIndex: 892 entries, 0 to 891\n",
      "Data columns (total 6 columns):\n",
      " #   Column      Non-Null Count  Dtype \n",
      "---  ------      --------------  ----- \n",
      " 0   name        892 non-null    object\n",
      " 1   company     892 non-null    object\n",
      " 2   year        892 non-null    object\n",
      " 3   Price       892 non-null    object\n",
      " 4   kms_driven  840 non-null    object\n",
      " 5   fuel_type   837 non-null    object\n",
      "dtypes: object(6)\n",
      "memory usage: 41.9+ KB\n"
     ]
    }
   ],
   "source": [
    "df.info()"
   ]
  },
  {
   "cell_type": "code",
   "execution_count": 156,
   "id": "b5617f9e",
   "metadata": {},
   "outputs": [
    {
     "data": {
      "text/html": [
       "<div>\n",
       "<style scoped>\n",
       "    .dataframe tbody tr th:only-of-type {\n",
       "        vertical-align: middle;\n",
       "    }\n",
       "\n",
       "    .dataframe tbody tr th {\n",
       "        vertical-align: top;\n",
       "    }\n",
       "\n",
       "    .dataframe thead th {\n",
       "        text-align: right;\n",
       "    }\n",
       "</style>\n",
       "<table border=\"1\" class=\"dataframe\">\n",
       "  <thead>\n",
       "    <tr style=\"text-align: right;\">\n",
       "      <th></th>\n",
       "      <th>name</th>\n",
       "      <th>company</th>\n",
       "      <th>year</th>\n",
       "      <th>Price</th>\n",
       "      <th>kms_driven</th>\n",
       "      <th>fuel_type</th>\n",
       "    </tr>\n",
       "  </thead>\n",
       "  <tbody>\n",
       "    <tr>\n",
       "      <th>count</th>\n",
       "      <td>892</td>\n",
       "      <td>892</td>\n",
       "      <td>892</td>\n",
       "      <td>892</td>\n",
       "      <td>840</td>\n",
       "      <td>837</td>\n",
       "    </tr>\n",
       "    <tr>\n",
       "      <th>unique</th>\n",
       "      <td>525</td>\n",
       "      <td>48</td>\n",
       "      <td>61</td>\n",
       "      <td>274</td>\n",
       "      <td>258</td>\n",
       "      <td>3</td>\n",
       "    </tr>\n",
       "    <tr>\n",
       "      <th>top</th>\n",
       "      <td>Honda City</td>\n",
       "      <td>Maruti</td>\n",
       "      <td>2015</td>\n",
       "      <td>Ask For Price</td>\n",
       "      <td>35,000 kms</td>\n",
       "      <td>Petrol</td>\n",
       "    </tr>\n",
       "    <tr>\n",
       "      <th>freq</th>\n",
       "      <td>13</td>\n",
       "      <td>235</td>\n",
       "      <td>117</td>\n",
       "      <td>35</td>\n",
       "      <td>30</td>\n",
       "      <td>440</td>\n",
       "    </tr>\n",
       "  </tbody>\n",
       "</table>\n",
       "</div>"
      ],
      "text/plain": [
       "              name company  year          Price  kms_driven fuel_type\n",
       "count          892     892   892            892         840       837\n",
       "unique         525      48    61            274         258         3\n",
       "top     Honda City  Maruti  2015  Ask For Price  35,000 kms    Petrol\n",
       "freq            13     235   117             35          30       440"
      ]
     },
     "execution_count": 156,
     "metadata": {},
     "output_type": "execute_result"
    }
   ],
   "source": [
    "df.describe()"
   ]
  },
  {
   "cell_type": "code",
   "execution_count": 157,
   "id": "c595bef3",
   "metadata": {},
   "outputs": [
    {
     "data": {
      "text/plain": [
       "61"
      ]
     },
     "execution_count": 157,
     "metadata": {},
     "output_type": "execute_result"
    }
   ],
   "source": [
    "df['year'].nunique()"
   ]
  },
  {
   "cell_type": "code",
   "execution_count": 158,
   "id": "98cb4e55",
   "metadata": {},
   "outputs": [
    {
     "data": {
      "text/plain": [
       "array(['2007', '2006', '2018', '2014', '2015', '2012', '2013', '2016',\n",
       "       '2010', '2017', '2008', '2011', '2019', '2009', '2005', '2000',\n",
       "       '...', '150k', 'TOUR', '2003', 'r 15', '2004', 'Zest', '/-Rs',\n",
       "       'sale', '1995', 'ara)', '2002', 'SELL', '2001', 'tion', 'odel',\n",
       "       '2 bs', 'arry', 'Eon', 'o...', 'ture', 'emi', 'car', 'able', 'no.',\n",
       "       'd...', 'SALE', 'digo', 'sell', 'd Ex', 'n...', 'e...', 'D...',\n",
       "       ', Ac', 'go .', 'k...', 'o c4', 'zire', 'cent', 'Sumo', 'cab',\n",
       "       't xe', 'EV2', 'r...', 'zest'], dtype=object)"
      ]
     },
     "execution_count": 158,
     "metadata": {},
     "output_type": "execute_result"
    }
   ],
   "source": [
    "df['year'].unique()"
   ]
  },
  {
   "cell_type": "code",
   "execution_count": 159,
   "id": "8986d6c8",
   "metadata": {},
   "outputs": [
    {
     "data": {
      "text/plain": [
       "0       True\n",
       "1       True\n",
       "2       True\n",
       "3       True\n",
       "4       True\n",
       "       ...  \n",
       "887    False\n",
       "888     True\n",
       "889     True\n",
       "890     True\n",
       "891     True\n",
       "Name: year, Length: 892, dtype: bool"
      ]
     },
     "execution_count": 159,
     "metadata": {},
     "output_type": "execute_result"
    }
   ],
   "source": [
    "# get only numeric data from year\n",
    "df['year'].str.isnumeric()"
   ]
  },
  {
   "cell_type": "code",
   "execution_count": 160,
   "id": "9b74714b",
   "metadata": {},
   "outputs": [
    {
     "data": {
      "text/html": [
       "<div>\n",
       "<style scoped>\n",
       "    .dataframe tbody tr th:only-of-type {\n",
       "        vertical-align: middle;\n",
       "    }\n",
       "\n",
       "    .dataframe tbody tr th {\n",
       "        vertical-align: top;\n",
       "    }\n",
       "\n",
       "    .dataframe thead th {\n",
       "        text-align: right;\n",
       "    }\n",
       "</style>\n",
       "<table border=\"1\" class=\"dataframe\">\n",
       "  <thead>\n",
       "    <tr style=\"text-align: right;\">\n",
       "      <th></th>\n",
       "      <th>name</th>\n",
       "      <th>company</th>\n",
       "      <th>year</th>\n",
       "      <th>Price</th>\n",
       "      <th>kms_driven</th>\n",
       "      <th>fuel_type</th>\n",
       "    </tr>\n",
       "  </thead>\n",
       "  <tbody>\n",
       "    <tr>\n",
       "      <th>0</th>\n",
       "      <td>Hyundai Santro Xing XO eRLX Euro III</td>\n",
       "      <td>Hyundai</td>\n",
       "      <td>2007</td>\n",
       "      <td>80,000</td>\n",
       "      <td>45,000 kms</td>\n",
       "      <td>Petrol</td>\n",
       "    </tr>\n",
       "    <tr>\n",
       "      <th>1</th>\n",
       "      <td>Mahindra Jeep CL550 MDI</td>\n",
       "      <td>Mahindra</td>\n",
       "      <td>2006</td>\n",
       "      <td>4,25,000</td>\n",
       "      <td>40 kms</td>\n",
       "      <td>Diesel</td>\n",
       "    </tr>\n",
       "    <tr>\n",
       "      <th>2</th>\n",
       "      <td>Maruti Suzuki Alto 800 Vxi</td>\n",
       "      <td>Maruti</td>\n",
       "      <td>2018</td>\n",
       "      <td>Ask For Price</td>\n",
       "      <td>22,000 kms</td>\n",
       "      <td>Petrol</td>\n",
       "    </tr>\n",
       "    <tr>\n",
       "      <th>3</th>\n",
       "      <td>Hyundai Grand i10 Magna 1.2 Kappa VTVT</td>\n",
       "      <td>Hyundai</td>\n",
       "      <td>2014</td>\n",
       "      <td>3,25,000</td>\n",
       "      <td>28,000 kms</td>\n",
       "      <td>Petrol</td>\n",
       "    </tr>\n",
       "    <tr>\n",
       "      <th>4</th>\n",
       "      <td>Ford EcoSport Titanium 1.5L TDCi</td>\n",
       "      <td>Ford</td>\n",
       "      <td>2014</td>\n",
       "      <td>5,75,000</td>\n",
       "      <td>36,000 kms</td>\n",
       "      <td>Diesel</td>\n",
       "    </tr>\n",
       "    <tr>\n",
       "      <th>...</th>\n",
       "      <td>...</td>\n",
       "      <td>...</td>\n",
       "      <td>...</td>\n",
       "      <td>...</td>\n",
       "      <td>...</td>\n",
       "      <td>...</td>\n",
       "    </tr>\n",
       "    <tr>\n",
       "      <th>886</th>\n",
       "      <td>Toyota Corolla Altis</td>\n",
       "      <td>Toyota</td>\n",
       "      <td>2009</td>\n",
       "      <td>3,00,000</td>\n",
       "      <td>1,32,000 kms</td>\n",
       "      <td>Petrol</td>\n",
       "    </tr>\n",
       "    <tr>\n",
       "      <th>888</th>\n",
       "      <td>Tata Zest XM Diesel</td>\n",
       "      <td>Tata</td>\n",
       "      <td>2018</td>\n",
       "      <td>2,60,000</td>\n",
       "      <td>27,000 kms</td>\n",
       "      <td>Diesel</td>\n",
       "    </tr>\n",
       "    <tr>\n",
       "      <th>889</th>\n",
       "      <td>Mahindra Quanto C8</td>\n",
       "      <td>Mahindra</td>\n",
       "      <td>2013</td>\n",
       "      <td>3,90,000</td>\n",
       "      <td>40,000 kms</td>\n",
       "      <td>Diesel</td>\n",
       "    </tr>\n",
       "    <tr>\n",
       "      <th>890</th>\n",
       "      <td>Honda Amaze 1.2 E i VTEC</td>\n",
       "      <td>Honda</td>\n",
       "      <td>2014</td>\n",
       "      <td>1,80,000</td>\n",
       "      <td>Petrol</td>\n",
       "      <td>NaN</td>\n",
       "    </tr>\n",
       "    <tr>\n",
       "      <th>891</th>\n",
       "      <td>Chevrolet Sail 1.2 LT ABS</td>\n",
       "      <td>Chevrolet</td>\n",
       "      <td>2014</td>\n",
       "      <td>1,60,000</td>\n",
       "      <td>Petrol</td>\n",
       "      <td>NaN</td>\n",
       "    </tr>\n",
       "  </tbody>\n",
       "</table>\n",
       "<p>842 rows × 6 columns</p>\n",
       "</div>"
      ],
      "text/plain": [
       "                                       name    company  year          Price  \\\n",
       "0      Hyundai Santro Xing XO eRLX Euro III    Hyundai  2007         80,000   \n",
       "1                   Mahindra Jeep CL550 MDI   Mahindra  2006       4,25,000   \n",
       "2                Maruti Suzuki Alto 800 Vxi     Maruti  2018  Ask For Price   \n",
       "3    Hyundai Grand i10 Magna 1.2 Kappa VTVT    Hyundai  2014       3,25,000   \n",
       "4          Ford EcoSport Titanium 1.5L TDCi       Ford  2014       5,75,000   \n",
       "..                                      ...        ...   ...            ...   \n",
       "886                    Toyota Corolla Altis     Toyota  2009       3,00,000   \n",
       "888                     Tata Zest XM Diesel       Tata  2018       2,60,000   \n",
       "889                      Mahindra Quanto C8   Mahindra  2013       3,90,000   \n",
       "890                Honda Amaze 1.2 E i VTEC      Honda  2014       1,80,000   \n",
       "891               Chevrolet Sail 1.2 LT ABS  Chevrolet  2014       1,60,000   \n",
       "\n",
       "       kms_driven fuel_type  \n",
       "0      45,000 kms    Petrol  \n",
       "1          40 kms    Diesel  \n",
       "2      22,000 kms    Petrol  \n",
       "3      28,000 kms    Petrol  \n",
       "4      36,000 kms    Diesel  \n",
       "..            ...       ...  \n",
       "886  1,32,000 kms    Petrol  \n",
       "888    27,000 kms    Diesel  \n",
       "889    40,000 kms    Diesel  \n",
       "890        Petrol       NaN  \n",
       "891        Petrol       NaN  \n",
       "\n",
       "[842 rows x 6 columns]"
      ]
     },
     "execution_count": 160,
     "metadata": {},
     "output_type": "execute_result"
    }
   ],
   "source": [
    "df[df['year'].str.isnumeric()]"
   ]
  },
  {
   "cell_type": "code",
   "execution_count": 161,
   "id": "38802344",
   "metadata": {},
   "outputs": [],
   "source": [
    "df = df[df['year'].str.isnumeric()]"
   ]
  },
  {
   "cell_type": "code",
   "execution_count": 162,
   "id": "9b724af1",
   "metadata": {},
   "outputs": [],
   "source": [
    "# changing datatype to int\n",
    "import sys\n",
    "if not sys.warnoptions:\n",
    "    import warnings\n",
    "    warnings.simplefilter(\"ignore\")\n",
    "\n",
    "df['year'] = df['year'].astype(int)"
   ]
  },
  {
   "cell_type": "code",
   "execution_count": 163,
   "id": "c54728a1",
   "metadata": {},
   "outputs": [
    {
     "data": {
      "text/plain": [
       "dtype('int32')"
      ]
     },
     "execution_count": 163,
     "metadata": {},
     "output_type": "execute_result"
    }
   ],
   "source": [
    "df['year'].dtype"
   ]
  },
  {
   "cell_type": "code",
   "execution_count": 164,
   "id": "60ef0c4b",
   "metadata": {},
   "outputs": [
    {
     "data": {
      "text/plain": [
       "273"
      ]
     },
     "execution_count": 164,
     "metadata": {},
     "output_type": "execute_result"
    }
   ],
   "source": [
    "df['Price'].nunique()"
   ]
  },
  {
   "cell_type": "code",
   "execution_count": 165,
   "id": "4b8ae0f3",
   "metadata": {},
   "outputs": [
    {
     "data": {
      "text/plain": [
       "array(['80,000', '4,25,000', 'Ask For Price', '3,25,000', '5,75,000',\n",
       "       '1,75,000', '1,90,000', '8,30,000', '2,50,000', '1,82,000',\n",
       "       '3,15,000', '4,15,000', '3,20,000', '10,00,000', '5,00,000',\n",
       "       '3,50,000', '1,60,000', '3,10,000', '75,000', '1,00,000',\n",
       "       '2,90,000', '95,000', '1,80,000', '3,85,000', '1,05,000',\n",
       "       '6,50,000', '6,89,999', '4,48,000', '5,49,000', '5,01,000',\n",
       "       '4,89,999', '2,80,000', '3,49,999', '2,84,999', '3,45,000',\n",
       "       '4,99,999', '2,35,000', '2,49,999', '14,75,000', '3,95,000',\n",
       "       '2,20,000', '1,70,000', '85,000', '2,00,000', '5,70,000',\n",
       "       '1,10,000', '4,48,999', '18,91,111', '1,59,500', '3,44,999',\n",
       "       '4,49,999', '8,65,000', '6,99,000', '3,75,000', '2,24,999',\n",
       "       '12,00,000', '1,95,000', '3,51,000', '2,40,000', '90,000',\n",
       "       '1,55,000', '6,00,000', '1,89,500', '2,10,000', '3,90,000',\n",
       "       '1,35,000', '16,00,000', '7,01,000', '2,65,000', '5,25,000',\n",
       "       '3,72,000', '6,35,000', '5,50,000', '4,85,000', '3,29,500',\n",
       "       '2,51,111', '5,69,999', '69,999', '2,99,999', '3,99,999',\n",
       "       '4,50,000', '2,70,000', '1,58,400', '1,79,000', '1,25,000',\n",
       "       '2,99,000', '1,50,000', '2,75,000', '2,85,000', '3,40,000',\n",
       "       '70,000', '2,89,999', '8,49,999', '7,49,999', '2,74,999',\n",
       "       '9,84,999', '5,99,999', '2,44,999', '4,74,999', '2,45,000',\n",
       "       '1,69,500', '3,70,000', '1,68,000', '1,45,000', '98,500',\n",
       "       '2,09,000', '1,85,000', '9,00,000', '6,99,999', '1,99,999',\n",
       "       '5,44,999', '1,99,000', '5,40,000', '49,000', '7,00,000', '55,000',\n",
       "       '8,95,000', '3,55,000', '5,65,000', '3,65,000', '40,000',\n",
       "       '4,00,000', '3,30,000', '5,80,000', '3,79,000', '2,19,000',\n",
       "       '5,19,000', '7,30,000', '20,00,000', '21,00,000', '14,00,000',\n",
       "       '3,11,000', '8,55,000', '5,35,000', '1,78,000', '3,00,000',\n",
       "       '2,55,000', '5,49,999', '3,80,000', '57,000', '4,10,000',\n",
       "       '2,25,000', '1,20,000', '59,000', '5,99,000', '6,75,000', '72,500',\n",
       "       '6,10,000', '2,30,000', '5,20,000', '5,24,999', '4,24,999',\n",
       "       '6,44,999', '5,84,999', '7,99,999', '4,44,999', '6,49,999',\n",
       "       '9,44,999', '5,74,999', '3,74,999', '1,30,000', '4,01,000',\n",
       "       '13,50,000', '1,74,999', '2,39,999', '99,999', '3,24,999',\n",
       "       '10,74,999', '11,30,000', '1,49,000', '7,70,000', '30,000',\n",
       "       '3,35,000', '3,99,000', '65,000', '1,69,999', '1,65,000',\n",
       "       '5,60,000', '9,50,000', '7,15,000', '45,000', '9,40,000',\n",
       "       '1,55,555', '15,00,000', '4,95,000', '8,00,000', '12,99,000',\n",
       "       '5,30,000', '14,99,000', '32,000', '4,05,000', '7,60,000',\n",
       "       '7,50,000', '4,19,000', '1,40,000', '15,40,000', '1,23,000',\n",
       "       '4,98,000', '4,80,000', '4,88,000', '15,25,000', '5,48,900',\n",
       "       '7,25,000', '99,000', '52,000', '28,00,000', '4,99,000',\n",
       "       '3,81,000', '2,78,000', '6,90,000', '2,60,000', '90,001',\n",
       "       '1,15,000', '15,99,000', '1,59,000', '51,999', '2,15,000',\n",
       "       '35,000', '11,50,000', '2,69,000', '60,000', '4,30,000',\n",
       "       '85,00,003', '4,01,919', '4,90,000', '4,24,000', '2,05,000',\n",
       "       '5,49,900', '4,35,000', '1,89,700', '3,89,700', '3,60,000',\n",
       "       '2,95,000', '1,14,990', '10,65,000', '4,70,000', '48,000',\n",
       "       '1,88,000', '4,65,000', '1,79,999', '21,90,000', '23,90,000',\n",
       "       '10,75,000', '4,75,000', '10,25,000', '6,15,000', '19,00,000',\n",
       "       '14,90,000', '15,10,000', '18,50,000', '7,90,000', '17,25,000',\n",
       "       '12,25,000', '68,000', '9,70,000', '31,00,000', '8,99,000',\n",
       "       '88,000', '53,000', '5,68,500', '71,000', '5,90,000', '7,95,000',\n",
       "       '42,000', '1,89,000', '1,62,000', '35,999', '29,00,000', '39,999',\n",
       "       '50,500', '5,10,000', '8,60,000', '5,00,001'], dtype=object)"
      ]
     },
     "execution_count": 165,
     "metadata": {},
     "output_type": "execute_result"
    }
   ],
   "source": [
    "df['Price'].unique()"
   ]
  },
  {
   "cell_type": "code",
   "execution_count": 166,
   "id": "dfc79b44",
   "metadata": {},
   "outputs": [],
   "source": [
    "# remove the entire row which contains string\n",
    "df = df[df['Price'] != 'Ask For Price']"
   ]
  },
  {
   "cell_type": "code",
   "execution_count": 167,
   "id": "7111d877",
   "metadata": {},
   "outputs": [
    {
     "data": {
      "text/plain": [
       "0        80,000\n",
       "1      4,25,000\n",
       "3      3,25,000\n",
       "4      5,75,000\n",
       "6      1,75,000\n",
       "         ...   \n",
       "886    3,00,000\n",
       "888    2,60,000\n",
       "889    3,90,000\n",
       "890    1,80,000\n",
       "891    1,60,000\n",
       "Name: Price, Length: 819, dtype: object"
      ]
     },
     "execution_count": 167,
     "metadata": {},
     "output_type": "execute_result"
    }
   ],
   "source": [
    "df['Price']"
   ]
  },
  {
   "cell_type": "code",
   "execution_count": 168,
   "id": "8d2ad096",
   "metadata": {},
   "outputs": [
    {
     "data": {
      "text/plain": [
       "0       80000\n",
       "1      425000\n",
       "3      325000\n",
       "4      575000\n",
       "6      175000\n",
       "        ...  \n",
       "886    300000\n",
       "888    260000\n",
       "889    390000\n",
       "890    180000\n",
       "891    160000\n",
       "Name: Price, Length: 819, dtype: int32"
      ]
     },
     "execution_count": 168,
     "metadata": {},
     "output_type": "execute_result"
    }
   ],
   "source": [
    "# replace comma with empty string and change datatype\n",
    "df['Price'].str.replace(',','').astype(int)"
   ]
  },
  {
   "cell_type": "code",
   "execution_count": 169,
   "id": "c1675ba6",
   "metadata": {},
   "outputs": [],
   "source": [
    "df['Price'] = df['Price'].str.replace(',','').astype(int)"
   ]
  },
  {
   "cell_type": "code",
   "execution_count": 170,
   "id": "4aee8cea",
   "metadata": {},
   "outputs": [
    {
     "data": {
      "text/plain": [
       "dtype('int32')"
      ]
     },
     "execution_count": 170,
     "metadata": {},
     "output_type": "execute_result"
    }
   ],
   "source": [
    "df['Price'].dtype"
   ]
  },
  {
   "cell_type": "code",
   "execution_count": 171,
   "id": "8cb3dd58",
   "metadata": {},
   "outputs": [
    {
     "data": {
      "text/plain": [
       "250"
      ]
     },
     "execution_count": 171,
     "metadata": {},
     "output_type": "execute_result"
    }
   ],
   "source": [
    "df['kms_driven'].nunique()"
   ]
  },
  {
   "cell_type": "code",
   "execution_count": 172,
   "id": "2ed5f09d",
   "metadata": {},
   "outputs": [
    {
     "data": {
      "text/plain": [
       "array(['45,000 kms', '40 kms', '28,000 kms', '36,000 kms', '41,000 kms',\n",
       "       '25,000 kms', '24,530 kms', '60,000 kms', '30,000 kms',\n",
       "       '32,000 kms', '48,660 kms', '4,000 kms', '16,934 kms',\n",
       "       '43,000 kms', '35,550 kms', '39,522 kms', '39,000 kms',\n",
       "       '55,000 kms', '72,000 kms', '15,975 kms', '70,000 kms',\n",
       "       '23,452 kms', '35,522 kms', '48,508 kms', '15,487 kms',\n",
       "       '82,000 kms', '20,000 kms', '68,000 kms', '38,000 kms',\n",
       "       '27,000 kms', '33,000 kms', '46,000 kms', '16,000 kms',\n",
       "       '47,000 kms', '35,000 kms', '30,874 kms', '15,000 kms',\n",
       "       '29,685 kms', '1,30,000 kms', '19,000 kms', '54,000 kms',\n",
       "       '13,000 kms', '38,200 kms', '22,000 kms', '50,000 kms',\n",
       "       '13,500 kms', '3,600 kms', '45,863 kms', '60,500 kms',\n",
       "       '12,500 kms', '18,000 kms', '13,349 kms', '29,000 kms',\n",
       "       '44,000 kms', '42,000 kms', '14,000 kms', '49,000 kms',\n",
       "       '36,200 kms', '51,000 kms', '1,04,000 kms', '33,333 kms',\n",
       "       '33,600 kms', '5,600 kms', '7,500 kms', '26,000 kms', '24,330 kms',\n",
       "       '65,480 kms', '2,00,000 kms', '59,000 kms', '99,000 kms',\n",
       "       '2,800 kms', '21,000 kms', '11,000 kms', '66,000 kms', '3,000 kms',\n",
       "       '7,000 kms', '38,500 kms', '37,200 kms', '43,200 kms',\n",
       "       '24,800 kms', '45,872 kms', '40,000 kms', '11,400 kms',\n",
       "       '97,200 kms', '52,000 kms', '31,000 kms', '1,75,430 kms',\n",
       "       '37,000 kms', '65,000 kms', '3,350 kms', '75,000 kms',\n",
       "       '62,000 kms', '73,000 kms', '2,200 kms', '54,870 kms',\n",
       "       '34,580 kms', '97,000 kms', '60 kms', '80,200 kms', '3,200 kms',\n",
       "       '0,000 kms', '5,000 kms', '588 kms', '71,200 kms', '1,75,400 kms',\n",
       "       '9,300 kms', '56,758 kms', '10,000 kms', '56,450 kms',\n",
       "       '56,000 kms', '32,700 kms', '9,000 kms', '73 kms', '1,60,000 kms',\n",
       "       '58,559 kms', '57,000 kms', '1,70,000 kms', '80,000 kms',\n",
       "       '6,821 kms', '23,000 kms', '34,000 kms', '1,800 kms',\n",
       "       '4,00,000 kms', '48,000 kms', '90,000 kms', '12,000 kms',\n",
       "       '69,900 kms', '1,66,000 kms', '122 kms', '0 kms', '36,469 kms',\n",
       "       '7,800 kms', '24,695 kms', '15,141 kms', '59,910 kms',\n",
       "       '1,00,000 kms', '4,500 kms', '1,29,000 kms', '300 kms',\n",
       "       '1,31,000 kms', '1,11,111 kms', '59,466 kms', '25,500 kms',\n",
       "       '44,005 kms', '2,110 kms', '43,222 kms', '1,00,200 kms', '65 kms',\n",
       "       '1,40,000 kms', '1,03,553 kms', '58,000 kms', '1,20,000 kms',\n",
       "       '49,800 kms', '100 kms', '81,876 kms', '6,020 kms', '55,700 kms',\n",
       "       '18,500 kms', '53,000 kms', '35,500 kms', '22,134 kms',\n",
       "       '1,000 kms', '8,500 kms', '87,000 kms', '6,000 kms', '8,000 kms',\n",
       "       '55,800 kms', '56,400 kms', '72,160 kms', '11,500 kms',\n",
       "       '1,33,000 kms', '2,000 kms', '88,000 kms', '65,422 kms',\n",
       "       '1,17,000 kms', '1,50,000 kms', '10,750 kms', '6,800 kms',\n",
       "       '9,800 kms', '57,923 kms', '30,201 kms', '6,200 kms', '37,518 kms',\n",
       "       '24,652 kms', '383 kms', '95,000 kms', '3,528 kms', '52,500 kms',\n",
       "       '47,900 kms', '52,800 kms', '1,95,000 kms', '48,008 kms',\n",
       "       '48,247 kms', '9,400 kms', '64,000 kms', '2,137 kms', '10,544 kms',\n",
       "       '1,47,000 kms', '90,001 kms', '48,006 kms', '74,000 kms',\n",
       "       '85,000 kms', '29,500 kms', '39,700 kms', '67,000 kms',\n",
       "       '19,336 kms', '60,105 kms', '45,933 kms', '1,02,563 kms',\n",
       "       '28,600 kms', '41,800 kms', '1,16,000 kms', '42,590 kms',\n",
       "       '7,400 kms', '54,500 kms', '76,000 kms', '00 kms', '11,523 kms',\n",
       "       '38,600 kms', '95,500 kms', '37,458 kms', '85,960 kms',\n",
       "       '12,516 kms', '30,600 kms', '2,550 kms', '62,500 kms',\n",
       "       '69,000 kms', '28,400 kms', '68,485 kms', '3,500 kms',\n",
       "       '85,455 kms', '63,000 kms', '1,600 kms', '77,000 kms',\n",
       "       '26,500 kms', '2,875 kms', '13,900 kms', '1,500 kms', '2,450 kms',\n",
       "       '1,625 kms', '33,400 kms', '60,123 kms', '1,37,495 kms',\n",
       "       '91,200 kms', '1,46,000 kms', '1,00,800 kms', '2,100 kms',\n",
       "       '2,500 kms', '1,32,000 kms', 'Petrol'], dtype=object)"
      ]
     },
     "execution_count": 172,
     "metadata": {},
     "output_type": "execute_result"
    }
   ],
   "source": [
    "df['kms_driven'].unique()"
   ]
  },
  {
   "cell_type": "code",
   "execution_count": 173,
   "id": "56a2e37d",
   "metadata": {},
   "outputs": [
    {
     "data": {
      "text/plain": [
       "0       45000\n",
       "1          40\n",
       "3       28000\n",
       "4       36000\n",
       "6       41000\n",
       "        ...  \n",
       "886    132000\n",
       "888     27000\n",
       "889     40000\n",
       "890    Petrol\n",
       "891    Petrol\n",
       "Name: kms_driven, Length: 819, dtype: object"
      ]
     },
     "execution_count": 173,
     "metadata": {},
     "output_type": "execute_result"
    }
   ],
   "source": [
    "# split the string with space\n",
    "# get only 0th index\n",
    "# replace comma with empty string\n",
    "df['kms_driven'].str.split(' ').str.get(0).str.replace(',','')"
   ]
  },
  {
   "cell_type": "code",
   "execution_count": 174,
   "id": "f8408005",
   "metadata": {},
   "outputs": [],
   "source": [
    "df['kms_driven'] = df['kms_driven'].str.split(' ').str.get(0).str.replace(',','')"
   ]
  },
  {
   "cell_type": "code",
   "execution_count": 175,
   "id": "05aa30d1",
   "metadata": {},
   "outputs": [
    {
     "data": {
      "text/html": [
       "<div>\n",
       "<style scoped>\n",
       "    .dataframe tbody tr th:only-of-type {\n",
       "        vertical-align: middle;\n",
       "    }\n",
       "\n",
       "    .dataframe tbody tr th {\n",
       "        vertical-align: top;\n",
       "    }\n",
       "\n",
       "    .dataframe thead th {\n",
       "        text-align: right;\n",
       "    }\n",
       "</style>\n",
       "<table border=\"1\" class=\"dataframe\">\n",
       "  <thead>\n",
       "    <tr style=\"text-align: right;\">\n",
       "      <th></th>\n",
       "      <th>name</th>\n",
       "      <th>company</th>\n",
       "      <th>year</th>\n",
       "      <th>Price</th>\n",
       "      <th>kms_driven</th>\n",
       "      <th>fuel_type</th>\n",
       "    </tr>\n",
       "  </thead>\n",
       "  <tbody>\n",
       "    <tr>\n",
       "      <th>0</th>\n",
       "      <td>Hyundai Santro Xing XO eRLX Euro III</td>\n",
       "      <td>Hyundai</td>\n",
       "      <td>2007</td>\n",
       "      <td>80000</td>\n",
       "      <td>45000</td>\n",
       "      <td>Petrol</td>\n",
       "    </tr>\n",
       "    <tr>\n",
       "      <th>1</th>\n",
       "      <td>Mahindra Jeep CL550 MDI</td>\n",
       "      <td>Mahindra</td>\n",
       "      <td>2006</td>\n",
       "      <td>425000</td>\n",
       "      <td>40</td>\n",
       "      <td>Diesel</td>\n",
       "    </tr>\n",
       "    <tr>\n",
       "      <th>3</th>\n",
       "      <td>Hyundai Grand i10 Magna 1.2 Kappa VTVT</td>\n",
       "      <td>Hyundai</td>\n",
       "      <td>2014</td>\n",
       "      <td>325000</td>\n",
       "      <td>28000</td>\n",
       "      <td>Petrol</td>\n",
       "    </tr>\n",
       "    <tr>\n",
       "      <th>4</th>\n",
       "      <td>Ford EcoSport Titanium 1.5L TDCi</td>\n",
       "      <td>Ford</td>\n",
       "      <td>2014</td>\n",
       "      <td>575000</td>\n",
       "      <td>36000</td>\n",
       "      <td>Diesel</td>\n",
       "    </tr>\n",
       "    <tr>\n",
       "      <th>6</th>\n",
       "      <td>Ford Figo</td>\n",
       "      <td>Ford</td>\n",
       "      <td>2012</td>\n",
       "      <td>175000</td>\n",
       "      <td>41000</td>\n",
       "      <td>Diesel</td>\n",
       "    </tr>\n",
       "    <tr>\n",
       "      <th>...</th>\n",
       "      <td>...</td>\n",
       "      <td>...</td>\n",
       "      <td>...</td>\n",
       "      <td>...</td>\n",
       "      <td>...</td>\n",
       "      <td>...</td>\n",
       "    </tr>\n",
       "    <tr>\n",
       "      <th>883</th>\n",
       "      <td>Maruti Suzuki Ritz VXI ABS</td>\n",
       "      <td>Maruti</td>\n",
       "      <td>2011</td>\n",
       "      <td>270000</td>\n",
       "      <td>50000</td>\n",
       "      <td>Petrol</td>\n",
       "    </tr>\n",
       "    <tr>\n",
       "      <th>885</th>\n",
       "      <td>Tata Indica V2 DLE BS III</td>\n",
       "      <td>Tata</td>\n",
       "      <td>2009</td>\n",
       "      <td>110000</td>\n",
       "      <td>30000</td>\n",
       "      <td>Diesel</td>\n",
       "    </tr>\n",
       "    <tr>\n",
       "      <th>886</th>\n",
       "      <td>Toyota Corolla Altis</td>\n",
       "      <td>Toyota</td>\n",
       "      <td>2009</td>\n",
       "      <td>300000</td>\n",
       "      <td>132000</td>\n",
       "      <td>Petrol</td>\n",
       "    </tr>\n",
       "    <tr>\n",
       "      <th>888</th>\n",
       "      <td>Tata Zest XM Diesel</td>\n",
       "      <td>Tata</td>\n",
       "      <td>2018</td>\n",
       "      <td>260000</td>\n",
       "      <td>27000</td>\n",
       "      <td>Diesel</td>\n",
       "    </tr>\n",
       "    <tr>\n",
       "      <th>889</th>\n",
       "      <td>Mahindra Quanto C8</td>\n",
       "      <td>Mahindra</td>\n",
       "      <td>2013</td>\n",
       "      <td>390000</td>\n",
       "      <td>40000</td>\n",
       "      <td>Diesel</td>\n",
       "    </tr>\n",
       "  </tbody>\n",
       "</table>\n",
       "<p>817 rows × 6 columns</p>\n",
       "</div>"
      ],
      "text/plain": [
       "                                       name   company  year   Price  \\\n",
       "0      Hyundai Santro Xing XO eRLX Euro III   Hyundai  2007   80000   \n",
       "1                   Mahindra Jeep CL550 MDI  Mahindra  2006  425000   \n",
       "3    Hyundai Grand i10 Magna 1.2 Kappa VTVT   Hyundai  2014  325000   \n",
       "4          Ford EcoSport Titanium 1.5L TDCi      Ford  2014  575000   \n",
       "6                                 Ford Figo      Ford  2012  175000   \n",
       "..                                      ...       ...   ...     ...   \n",
       "883              Maruti Suzuki Ritz VXI ABS    Maruti  2011  270000   \n",
       "885               Tata Indica V2 DLE BS III      Tata  2009  110000   \n",
       "886                    Toyota Corolla Altis    Toyota  2009  300000   \n",
       "888                     Tata Zest XM Diesel      Tata  2018  260000   \n",
       "889                      Mahindra Quanto C8  Mahindra  2013  390000   \n",
       "\n",
       "    kms_driven fuel_type  \n",
       "0        45000    Petrol  \n",
       "1           40    Diesel  \n",
       "3        28000    Petrol  \n",
       "4        36000    Diesel  \n",
       "6        41000    Diesel  \n",
       "..         ...       ...  \n",
       "883      50000    Petrol  \n",
       "885      30000    Diesel  \n",
       "886     132000    Petrol  \n",
       "888      27000    Diesel  \n",
       "889      40000    Diesel  \n",
       "\n",
       "[817 rows x 6 columns]"
      ]
     },
     "execution_count": 175,
     "metadata": {},
     "output_type": "execute_result"
    }
   ],
   "source": [
    "# remove string from kms_driven and get only numeric data\n",
    "df[df['kms_driven'].str.isnumeric()]"
   ]
  },
  {
   "cell_type": "code",
   "execution_count": 176,
   "id": "d91fe73c",
   "metadata": {},
   "outputs": [],
   "source": [
    "df = df[df['kms_driven'].str.isnumeric()]"
   ]
  },
  {
   "cell_type": "code",
   "execution_count": 177,
   "id": "e134150d",
   "metadata": {},
   "outputs": [],
   "source": [
    "# change datatype\n",
    "df['kms_driven'] = df['kms_driven'].astype(int)"
   ]
  },
  {
   "cell_type": "code",
   "execution_count": 178,
   "id": "e6cfd3ec",
   "metadata": {},
   "outputs": [
    {
     "data": {
      "text/plain": [
       "dtype('int32')"
      ]
     },
     "execution_count": 178,
     "metadata": {},
     "output_type": "execute_result"
    }
   ],
   "source": [
    "# change datatype\n",
    "df['kms_driven'].dtype"
   ]
  },
  {
   "cell_type": "code",
   "execution_count": 179,
   "id": "10ef3b36",
   "metadata": {},
   "outputs": [
    {
     "data": {
      "text/plain": [
       "3"
      ]
     },
     "execution_count": 179,
     "metadata": {},
     "output_type": "execute_result"
    }
   ],
   "source": [
    "df['fuel_type'].nunique()"
   ]
  },
  {
   "cell_type": "code",
   "execution_count": 180,
   "id": "58bfc58e",
   "metadata": {},
   "outputs": [
    {
     "data": {
      "text/plain": [
       "array(['Petrol', 'Diesel', nan, 'LPG'], dtype=object)"
      ]
     },
     "execution_count": 180,
     "metadata": {},
     "output_type": "execute_result"
    }
   ],
   "source": [
    "df['fuel_type'].unique()"
   ]
  },
  {
   "cell_type": "code",
   "execution_count": 181,
   "id": "7b907882",
   "metadata": {},
   "outputs": [
    {
     "data": {
      "text/plain": [
       "1"
      ]
     },
     "execution_count": 181,
     "metadata": {},
     "output_type": "execute_result"
    }
   ],
   "source": [
    "df['fuel_type'].isnull().sum()"
   ]
  },
  {
   "cell_type": "code",
   "execution_count": 182,
   "id": "fac6137e",
   "metadata": {},
   "outputs": [
    {
     "data": {
      "text/html": [
       "<div>\n",
       "<style scoped>\n",
       "    .dataframe tbody tr th:only-of-type {\n",
       "        vertical-align: middle;\n",
       "    }\n",
       "\n",
       "    .dataframe tbody tr th {\n",
       "        vertical-align: top;\n",
       "    }\n",
       "\n",
       "    .dataframe thead th {\n",
       "        text-align: right;\n",
       "    }\n",
       "</style>\n",
       "<table border=\"1\" class=\"dataframe\">\n",
       "  <thead>\n",
       "    <tr style=\"text-align: right;\">\n",
       "      <th></th>\n",
       "      <th>name</th>\n",
       "      <th>company</th>\n",
       "      <th>year</th>\n",
       "      <th>Price</th>\n",
       "      <th>kms_driven</th>\n",
       "      <th>fuel_type</th>\n",
       "    </tr>\n",
       "  </thead>\n",
       "  <tbody>\n",
       "    <tr>\n",
       "      <th>132</th>\n",
       "      <td>Toyota Corolla</td>\n",
       "      <td>Toyota</td>\n",
       "      <td>2009</td>\n",
       "      <td>275000</td>\n",
       "      <td>26000</td>\n",
       "      <td>NaN</td>\n",
       "    </tr>\n",
       "  </tbody>\n",
       "</table>\n",
       "</div>"
      ],
      "text/plain": [
       "               name company  year   Price  kms_driven fuel_type\n",
       "132  Toyota Corolla  Toyota  2009  275000       26000       NaN"
      ]
     },
     "execution_count": 182,
     "metadata": {},
     "output_type": "execute_result"
    }
   ],
   "source": [
    "# excluding this row get all other rows\n",
    "df[df['fuel_type'].isna()]"
   ]
  },
  {
   "cell_type": "code",
   "execution_count": 183,
   "id": "874d7dd7",
   "metadata": {},
   "outputs": [],
   "source": [
    "df = df[~df['fuel_type'].isna()]"
   ]
  },
  {
   "cell_type": "code",
   "execution_count": 184,
   "id": "d338b91f",
   "metadata": {},
   "outputs": [
    {
     "data": {
      "text/plain": [
       "0        Hyundai Santro Xing XO eRLX Euro III\n",
       "1                     Mahindra Jeep CL550 MDI\n",
       "3      Hyundai Grand i10 Magna 1.2 Kappa VTVT\n",
       "4            Ford EcoSport Titanium 1.5L TDCi\n",
       "6                                   Ford Figo\n",
       "                        ...                  \n",
       "883                Maruti Suzuki Ritz VXI ABS\n",
       "885                 Tata Indica V2 DLE BS III\n",
       "886                      Toyota Corolla Altis\n",
       "888                       Tata Zest XM Diesel\n",
       "889                        Mahindra Quanto C8\n",
       "Name: name, Length: 816, dtype: object"
      ]
     },
     "execution_count": 184,
     "metadata": {},
     "output_type": "execute_result"
    }
   ],
   "source": [
    "df['name']"
   ]
  },
  {
   "cell_type": "code",
   "execution_count": 185,
   "id": "371e6604",
   "metadata": {},
   "outputs": [
    {
     "data": {
      "text/plain": [
       "0        [Hyundai, Santro, Xing, XO, eRLX, Euro, III]\n",
       "1                        [Mahindra, Jeep, CL550, MDI]\n",
       "3      [Hyundai, Grand, i10, Magna, 1.2, Kappa, VTVT]\n",
       "4              [Ford, EcoSport, Titanium, 1.5L, TDCi]\n",
       "6                                        [Ford, Figo]\n",
       "                            ...                      \n",
       "883                  [Maruti, Suzuki, Ritz, VXI, ABS]\n",
       "885                  [Tata, Indica, V2, DLE, BS, III]\n",
       "886                          [Toyota, Corolla, Altis]\n",
       "888                          [Tata, Zest, XM, Diesel]\n",
       "889                            [Mahindra, Quanto, C8]\n",
       "Name: name, Length: 816, dtype: object"
      ]
     },
     "execution_count": 185,
     "metadata": {},
     "output_type": "execute_result"
    }
   ],
   "source": [
    "# split the string with sapce\n",
    "df['name'].str.split(' ')"
   ]
  },
  {
   "cell_type": "code",
   "execution_count": 186,
   "id": "c639a74d",
   "metadata": {},
   "outputs": [
    {
     "data": {
      "text/plain": [
       "0         [Hyundai, Santro, Xing]\n",
       "1         [Mahindra, Jeep, CL550]\n",
       "3           [Hyundai, Grand, i10]\n",
       "4      [Ford, EcoSport, Titanium]\n",
       "6                    [Ford, Figo]\n",
       "                  ...            \n",
       "883        [Maruti, Suzuki, Ritz]\n",
       "885            [Tata, Indica, V2]\n",
       "886      [Toyota, Corolla, Altis]\n",
       "888              [Tata, Zest, XM]\n",
       "889        [Mahindra, Quanto, C8]\n",
       "Name: name, Length: 816, dtype: object"
      ]
     },
     "execution_count": 186,
     "metadata": {},
     "output_type": "execute_result"
    }
   ],
   "source": [
    "# get only 1st 3words\n",
    "df['name'].str.split(' ').str.slice(0,3)"
   ]
  },
  {
   "cell_type": "code",
   "execution_count": 187,
   "id": "32f32b25",
   "metadata": {},
   "outputs": [
    {
     "data": {
      "text/plain": [
       "0         Hyundai Santro Xing\n",
       "1         Mahindra Jeep CL550\n",
       "3           Hyundai Grand i10\n",
       "4      Ford EcoSport Titanium\n",
       "6                   Ford Figo\n",
       "                ...          \n",
       "883        Maruti Suzuki Ritz\n",
       "885            Tata Indica V2\n",
       "886      Toyota Corolla Altis\n",
       "888              Tata Zest XM\n",
       "889        Mahindra Quanto C8\n",
       "Name: name, Length: 816, dtype: object"
      ]
     },
     "execution_count": 187,
     "metadata": {},
     "output_type": "execute_result"
    }
   ],
   "source": [
    "# join the string\n",
    "df['name'].str.split(' ').str.slice(0,3).str.join(' ')"
   ]
  },
  {
   "cell_type": "code",
   "execution_count": 188,
   "id": "d179c433",
   "metadata": {},
   "outputs": [],
   "source": [
    "df['name'] = df['name'].str.split(' ').str.slice(0,3).str.join(' ')"
   ]
  },
  {
   "cell_type": "code",
   "execution_count": 189,
   "id": "b92438e9",
   "metadata": {},
   "outputs": [
    {
     "data": {
      "text/html": [
       "<div>\n",
       "<style scoped>\n",
       "    .dataframe tbody tr th:only-of-type {\n",
       "        vertical-align: middle;\n",
       "    }\n",
       "\n",
       "    .dataframe tbody tr th {\n",
       "        vertical-align: top;\n",
       "    }\n",
       "\n",
       "    .dataframe thead th {\n",
       "        text-align: right;\n",
       "    }\n",
       "</style>\n",
       "<table border=\"1\" class=\"dataframe\">\n",
       "  <thead>\n",
       "    <tr style=\"text-align: right;\">\n",
       "      <th></th>\n",
       "      <th>name</th>\n",
       "      <th>company</th>\n",
       "      <th>year</th>\n",
       "      <th>Price</th>\n",
       "      <th>kms_driven</th>\n",
       "      <th>fuel_type</th>\n",
       "    </tr>\n",
       "  </thead>\n",
       "  <tbody>\n",
       "    <tr>\n",
       "      <th>0</th>\n",
       "      <td>Hyundai Santro Xing</td>\n",
       "      <td>Hyundai</td>\n",
       "      <td>2007</td>\n",
       "      <td>80000</td>\n",
       "      <td>45000</td>\n",
       "      <td>Petrol</td>\n",
       "    </tr>\n",
       "    <tr>\n",
       "      <th>1</th>\n",
       "      <td>Mahindra Jeep CL550</td>\n",
       "      <td>Mahindra</td>\n",
       "      <td>2006</td>\n",
       "      <td>425000</td>\n",
       "      <td>40</td>\n",
       "      <td>Diesel</td>\n",
       "    </tr>\n",
       "    <tr>\n",
       "      <th>3</th>\n",
       "      <td>Hyundai Grand i10</td>\n",
       "      <td>Hyundai</td>\n",
       "      <td>2014</td>\n",
       "      <td>325000</td>\n",
       "      <td>28000</td>\n",
       "      <td>Petrol</td>\n",
       "    </tr>\n",
       "    <tr>\n",
       "      <th>4</th>\n",
       "      <td>Ford EcoSport Titanium</td>\n",
       "      <td>Ford</td>\n",
       "      <td>2014</td>\n",
       "      <td>575000</td>\n",
       "      <td>36000</td>\n",
       "      <td>Diesel</td>\n",
       "    </tr>\n",
       "    <tr>\n",
       "      <th>6</th>\n",
       "      <td>Ford Figo</td>\n",
       "      <td>Ford</td>\n",
       "      <td>2012</td>\n",
       "      <td>175000</td>\n",
       "      <td>41000</td>\n",
       "      <td>Diesel</td>\n",
       "    </tr>\n",
       "    <tr>\n",
       "      <th>...</th>\n",
       "      <td>...</td>\n",
       "      <td>...</td>\n",
       "      <td>...</td>\n",
       "      <td>...</td>\n",
       "      <td>...</td>\n",
       "      <td>...</td>\n",
       "    </tr>\n",
       "    <tr>\n",
       "      <th>883</th>\n",
       "      <td>Maruti Suzuki Ritz</td>\n",
       "      <td>Maruti</td>\n",
       "      <td>2011</td>\n",
       "      <td>270000</td>\n",
       "      <td>50000</td>\n",
       "      <td>Petrol</td>\n",
       "    </tr>\n",
       "    <tr>\n",
       "      <th>885</th>\n",
       "      <td>Tata Indica V2</td>\n",
       "      <td>Tata</td>\n",
       "      <td>2009</td>\n",
       "      <td>110000</td>\n",
       "      <td>30000</td>\n",
       "      <td>Diesel</td>\n",
       "    </tr>\n",
       "    <tr>\n",
       "      <th>886</th>\n",
       "      <td>Toyota Corolla Altis</td>\n",
       "      <td>Toyota</td>\n",
       "      <td>2009</td>\n",
       "      <td>300000</td>\n",
       "      <td>132000</td>\n",
       "      <td>Petrol</td>\n",
       "    </tr>\n",
       "    <tr>\n",
       "      <th>888</th>\n",
       "      <td>Tata Zest XM</td>\n",
       "      <td>Tata</td>\n",
       "      <td>2018</td>\n",
       "      <td>260000</td>\n",
       "      <td>27000</td>\n",
       "      <td>Diesel</td>\n",
       "    </tr>\n",
       "    <tr>\n",
       "      <th>889</th>\n",
       "      <td>Mahindra Quanto C8</td>\n",
       "      <td>Mahindra</td>\n",
       "      <td>2013</td>\n",
       "      <td>390000</td>\n",
       "      <td>40000</td>\n",
       "      <td>Diesel</td>\n",
       "    </tr>\n",
       "  </tbody>\n",
       "</table>\n",
       "<p>816 rows × 6 columns</p>\n",
       "</div>"
      ],
      "text/plain": [
       "                       name   company  year   Price  kms_driven fuel_type\n",
       "0       Hyundai Santro Xing   Hyundai  2007   80000       45000    Petrol\n",
       "1       Mahindra Jeep CL550  Mahindra  2006  425000          40    Diesel\n",
       "3         Hyundai Grand i10   Hyundai  2014  325000       28000    Petrol\n",
       "4    Ford EcoSport Titanium      Ford  2014  575000       36000    Diesel\n",
       "6                 Ford Figo      Ford  2012  175000       41000    Diesel\n",
       "..                      ...       ...   ...     ...         ...       ...\n",
       "883      Maruti Suzuki Ritz    Maruti  2011  270000       50000    Petrol\n",
       "885          Tata Indica V2      Tata  2009  110000       30000    Diesel\n",
       "886    Toyota Corolla Altis    Toyota  2009  300000      132000    Petrol\n",
       "888            Tata Zest XM      Tata  2018  260000       27000    Diesel\n",
       "889      Mahindra Quanto C8  Mahindra  2013  390000       40000    Diesel\n",
       "\n",
       "[816 rows x 6 columns]"
      ]
     },
     "execution_count": 189,
     "metadata": {},
     "output_type": "execute_result"
    }
   ],
   "source": [
    "df"
   ]
  },
  {
   "cell_type": "code",
   "execution_count": 190,
   "id": "8a7ecbf8",
   "metadata": {},
   "outputs": [],
   "source": [
    "df = df.reset_index(drop=True)"
   ]
  },
  {
   "cell_type": "code",
   "execution_count": 191,
   "id": "a11d9fae",
   "metadata": {},
   "outputs": [
    {
     "data": {
      "text/html": [
       "<div>\n",
       "<style scoped>\n",
       "    .dataframe tbody tr th:only-of-type {\n",
       "        vertical-align: middle;\n",
       "    }\n",
       "\n",
       "    .dataframe tbody tr th {\n",
       "        vertical-align: top;\n",
       "    }\n",
       "\n",
       "    .dataframe thead th {\n",
       "        text-align: right;\n",
       "    }\n",
       "</style>\n",
       "<table border=\"1\" class=\"dataframe\">\n",
       "  <thead>\n",
       "    <tr style=\"text-align: right;\">\n",
       "      <th></th>\n",
       "      <th>name</th>\n",
       "      <th>company</th>\n",
       "      <th>year</th>\n",
       "      <th>Price</th>\n",
       "      <th>kms_driven</th>\n",
       "      <th>fuel_type</th>\n",
       "    </tr>\n",
       "  </thead>\n",
       "  <tbody>\n",
       "    <tr>\n",
       "      <th>0</th>\n",
       "      <td>Hyundai Santro Xing</td>\n",
       "      <td>Hyundai</td>\n",
       "      <td>2007</td>\n",
       "      <td>80000</td>\n",
       "      <td>45000</td>\n",
       "      <td>Petrol</td>\n",
       "    </tr>\n",
       "    <tr>\n",
       "      <th>1</th>\n",
       "      <td>Mahindra Jeep CL550</td>\n",
       "      <td>Mahindra</td>\n",
       "      <td>2006</td>\n",
       "      <td>425000</td>\n",
       "      <td>40</td>\n",
       "      <td>Diesel</td>\n",
       "    </tr>\n",
       "    <tr>\n",
       "      <th>2</th>\n",
       "      <td>Hyundai Grand i10</td>\n",
       "      <td>Hyundai</td>\n",
       "      <td>2014</td>\n",
       "      <td>325000</td>\n",
       "      <td>28000</td>\n",
       "      <td>Petrol</td>\n",
       "    </tr>\n",
       "    <tr>\n",
       "      <th>3</th>\n",
       "      <td>Ford EcoSport Titanium</td>\n",
       "      <td>Ford</td>\n",
       "      <td>2014</td>\n",
       "      <td>575000</td>\n",
       "      <td>36000</td>\n",
       "      <td>Diesel</td>\n",
       "    </tr>\n",
       "    <tr>\n",
       "      <th>4</th>\n",
       "      <td>Ford Figo</td>\n",
       "      <td>Ford</td>\n",
       "      <td>2012</td>\n",
       "      <td>175000</td>\n",
       "      <td>41000</td>\n",
       "      <td>Diesel</td>\n",
       "    </tr>\n",
       "    <tr>\n",
       "      <th>...</th>\n",
       "      <td>...</td>\n",
       "      <td>...</td>\n",
       "      <td>...</td>\n",
       "      <td>...</td>\n",
       "      <td>...</td>\n",
       "      <td>...</td>\n",
       "    </tr>\n",
       "    <tr>\n",
       "      <th>811</th>\n",
       "      <td>Maruti Suzuki Ritz</td>\n",
       "      <td>Maruti</td>\n",
       "      <td>2011</td>\n",
       "      <td>270000</td>\n",
       "      <td>50000</td>\n",
       "      <td>Petrol</td>\n",
       "    </tr>\n",
       "    <tr>\n",
       "      <th>812</th>\n",
       "      <td>Tata Indica V2</td>\n",
       "      <td>Tata</td>\n",
       "      <td>2009</td>\n",
       "      <td>110000</td>\n",
       "      <td>30000</td>\n",
       "      <td>Diesel</td>\n",
       "    </tr>\n",
       "    <tr>\n",
       "      <th>813</th>\n",
       "      <td>Toyota Corolla Altis</td>\n",
       "      <td>Toyota</td>\n",
       "      <td>2009</td>\n",
       "      <td>300000</td>\n",
       "      <td>132000</td>\n",
       "      <td>Petrol</td>\n",
       "    </tr>\n",
       "    <tr>\n",
       "      <th>814</th>\n",
       "      <td>Tata Zest XM</td>\n",
       "      <td>Tata</td>\n",
       "      <td>2018</td>\n",
       "      <td>260000</td>\n",
       "      <td>27000</td>\n",
       "      <td>Diesel</td>\n",
       "    </tr>\n",
       "    <tr>\n",
       "      <th>815</th>\n",
       "      <td>Mahindra Quanto C8</td>\n",
       "      <td>Mahindra</td>\n",
       "      <td>2013</td>\n",
       "      <td>390000</td>\n",
       "      <td>40000</td>\n",
       "      <td>Diesel</td>\n",
       "    </tr>\n",
       "  </tbody>\n",
       "</table>\n",
       "<p>816 rows × 6 columns</p>\n",
       "</div>"
      ],
      "text/plain": [
       "                       name   company  year   Price  kms_driven fuel_type\n",
       "0       Hyundai Santro Xing   Hyundai  2007   80000       45000    Petrol\n",
       "1       Mahindra Jeep CL550  Mahindra  2006  425000          40    Diesel\n",
       "2         Hyundai Grand i10   Hyundai  2014  325000       28000    Petrol\n",
       "3    Ford EcoSport Titanium      Ford  2014  575000       36000    Diesel\n",
       "4                 Ford Figo      Ford  2012  175000       41000    Diesel\n",
       "..                      ...       ...   ...     ...         ...       ...\n",
       "811      Maruti Suzuki Ritz    Maruti  2011  270000       50000    Petrol\n",
       "812          Tata Indica V2      Tata  2009  110000       30000    Diesel\n",
       "813    Toyota Corolla Altis    Toyota  2009  300000      132000    Petrol\n",
       "814            Tata Zest XM      Tata  2018  260000       27000    Diesel\n",
       "815      Mahindra Quanto C8  Mahindra  2013  390000       40000    Diesel\n",
       "\n",
       "[816 rows x 6 columns]"
      ]
     },
     "execution_count": 191,
     "metadata": {},
     "output_type": "execute_result"
    }
   ],
   "source": [
    "df"
   ]
  },
  {
   "cell_type": "code",
   "execution_count": 192,
   "id": "127edb43",
   "metadata": {},
   "outputs": [
    {
     "data": {
      "text/html": [
       "<div>\n",
       "<style scoped>\n",
       "    .dataframe tbody tr th:only-of-type {\n",
       "        vertical-align: middle;\n",
       "    }\n",
       "\n",
       "    .dataframe tbody tr th {\n",
       "        vertical-align: top;\n",
       "    }\n",
       "\n",
       "    .dataframe thead th {\n",
       "        text-align: right;\n",
       "    }\n",
       "</style>\n",
       "<table border=\"1\" class=\"dataframe\">\n",
       "  <thead>\n",
       "    <tr style=\"text-align: right;\">\n",
       "      <th></th>\n",
       "      <th>name</th>\n",
       "      <th>company</th>\n",
       "      <th>year</th>\n",
       "      <th>Price</th>\n",
       "      <th>kms_driven</th>\n",
       "      <th>fuel_type</th>\n",
       "    </tr>\n",
       "  </thead>\n",
       "  <tbody>\n",
       "    <tr>\n",
       "      <th>534</th>\n",
       "      <td>Mahindra XUV500 W6</td>\n",
       "      <td>Mahindra</td>\n",
       "      <td>2014</td>\n",
       "      <td>8500003</td>\n",
       "      <td>45000</td>\n",
       "      <td>Diesel</td>\n",
       "    </tr>\n",
       "  </tbody>\n",
       "</table>\n",
       "</div>"
      ],
      "text/plain": [
       "                   name   company  year    Price  kms_driven fuel_type\n",
       "534  Mahindra XUV500 W6  Mahindra  2014  8500003       45000    Diesel"
      ]
     },
     "execution_count": 192,
     "metadata": {},
     "output_type": "execute_result"
    }
   ],
   "source": [
    "# drop the row whos price is greater than 6000000\n",
    "df[df['Price']>6000000]"
   ]
  },
  {
   "cell_type": "code",
   "execution_count": 193,
   "id": "2afda0d2",
   "metadata": {},
   "outputs": [],
   "source": [
    "df = df[df['Price']<6e6].reset_index(drop=True)"
   ]
  },
  {
   "cell_type": "code",
   "execution_count": 194,
   "id": "a3beb6bd",
   "metadata": {},
   "outputs": [
    {
     "data": {
      "text/html": [
       "<div>\n",
       "<style scoped>\n",
       "    .dataframe tbody tr th:only-of-type {\n",
       "        vertical-align: middle;\n",
       "    }\n",
       "\n",
       "    .dataframe tbody tr th {\n",
       "        vertical-align: top;\n",
       "    }\n",
       "\n",
       "    .dataframe thead th {\n",
       "        text-align: right;\n",
       "    }\n",
       "</style>\n",
       "<table border=\"1\" class=\"dataframe\">\n",
       "  <thead>\n",
       "    <tr style=\"text-align: right;\">\n",
       "      <th></th>\n",
       "      <th>name</th>\n",
       "      <th>company</th>\n",
       "      <th>year</th>\n",
       "      <th>Price</th>\n",
       "      <th>kms_driven</th>\n",
       "      <th>fuel_type</th>\n",
       "    </tr>\n",
       "  </thead>\n",
       "  <tbody>\n",
       "    <tr>\n",
       "      <th>0</th>\n",
       "      <td>Hyundai Santro Xing</td>\n",
       "      <td>Hyundai</td>\n",
       "      <td>2007</td>\n",
       "      <td>80000</td>\n",
       "      <td>45000</td>\n",
       "      <td>Petrol</td>\n",
       "    </tr>\n",
       "    <tr>\n",
       "      <th>1</th>\n",
       "      <td>Mahindra Jeep CL550</td>\n",
       "      <td>Mahindra</td>\n",
       "      <td>2006</td>\n",
       "      <td>425000</td>\n",
       "      <td>40</td>\n",
       "      <td>Diesel</td>\n",
       "    </tr>\n",
       "    <tr>\n",
       "      <th>2</th>\n",
       "      <td>Hyundai Grand i10</td>\n",
       "      <td>Hyundai</td>\n",
       "      <td>2014</td>\n",
       "      <td>325000</td>\n",
       "      <td>28000</td>\n",
       "      <td>Petrol</td>\n",
       "    </tr>\n",
       "    <tr>\n",
       "      <th>3</th>\n",
       "      <td>Ford EcoSport Titanium</td>\n",
       "      <td>Ford</td>\n",
       "      <td>2014</td>\n",
       "      <td>575000</td>\n",
       "      <td>36000</td>\n",
       "      <td>Diesel</td>\n",
       "    </tr>\n",
       "    <tr>\n",
       "      <th>4</th>\n",
       "      <td>Ford Figo</td>\n",
       "      <td>Ford</td>\n",
       "      <td>2012</td>\n",
       "      <td>175000</td>\n",
       "      <td>41000</td>\n",
       "      <td>Diesel</td>\n",
       "    </tr>\n",
       "    <tr>\n",
       "      <th>...</th>\n",
       "      <td>...</td>\n",
       "      <td>...</td>\n",
       "      <td>...</td>\n",
       "      <td>...</td>\n",
       "      <td>...</td>\n",
       "      <td>...</td>\n",
       "    </tr>\n",
       "    <tr>\n",
       "      <th>810</th>\n",
       "      <td>Maruti Suzuki Ritz</td>\n",
       "      <td>Maruti</td>\n",
       "      <td>2011</td>\n",
       "      <td>270000</td>\n",
       "      <td>50000</td>\n",
       "      <td>Petrol</td>\n",
       "    </tr>\n",
       "    <tr>\n",
       "      <th>811</th>\n",
       "      <td>Tata Indica V2</td>\n",
       "      <td>Tata</td>\n",
       "      <td>2009</td>\n",
       "      <td>110000</td>\n",
       "      <td>30000</td>\n",
       "      <td>Diesel</td>\n",
       "    </tr>\n",
       "    <tr>\n",
       "      <th>812</th>\n",
       "      <td>Toyota Corolla Altis</td>\n",
       "      <td>Toyota</td>\n",
       "      <td>2009</td>\n",
       "      <td>300000</td>\n",
       "      <td>132000</td>\n",
       "      <td>Petrol</td>\n",
       "    </tr>\n",
       "    <tr>\n",
       "      <th>813</th>\n",
       "      <td>Tata Zest XM</td>\n",
       "      <td>Tata</td>\n",
       "      <td>2018</td>\n",
       "      <td>260000</td>\n",
       "      <td>27000</td>\n",
       "      <td>Diesel</td>\n",
       "    </tr>\n",
       "    <tr>\n",
       "      <th>814</th>\n",
       "      <td>Mahindra Quanto C8</td>\n",
       "      <td>Mahindra</td>\n",
       "      <td>2013</td>\n",
       "      <td>390000</td>\n",
       "      <td>40000</td>\n",
       "      <td>Diesel</td>\n",
       "    </tr>\n",
       "  </tbody>\n",
       "</table>\n",
       "<p>815 rows × 6 columns</p>\n",
       "</div>"
      ],
      "text/plain": [
       "                       name   company  year   Price  kms_driven fuel_type\n",
       "0       Hyundai Santro Xing   Hyundai  2007   80000       45000    Petrol\n",
       "1       Mahindra Jeep CL550  Mahindra  2006  425000          40    Diesel\n",
       "2         Hyundai Grand i10   Hyundai  2014  325000       28000    Petrol\n",
       "3    Ford EcoSport Titanium      Ford  2014  575000       36000    Diesel\n",
       "4                 Ford Figo      Ford  2012  175000       41000    Diesel\n",
       "..                      ...       ...   ...     ...         ...       ...\n",
       "810      Maruti Suzuki Ritz    Maruti  2011  270000       50000    Petrol\n",
       "811          Tata Indica V2      Tata  2009  110000       30000    Diesel\n",
       "812    Toyota Corolla Altis    Toyota  2009  300000      132000    Petrol\n",
       "813            Tata Zest XM      Tata  2018  260000       27000    Diesel\n",
       "814      Mahindra Quanto C8  Mahindra  2013  390000       40000    Diesel\n",
       "\n",
       "[815 rows x 6 columns]"
      ]
     },
     "execution_count": 194,
     "metadata": {},
     "output_type": "execute_result"
    }
   ],
   "source": [
    "df"
   ]
  },
  {
   "cell_type": "code",
   "execution_count": 195,
   "id": "e4709de6",
   "metadata": {},
   "outputs": [],
   "source": [
    "x = df.drop('Price',axis=1)\n",
    "y = df['Price']"
   ]
  },
  {
   "cell_type": "code",
   "execution_count": 196,
   "id": "1f0124b4",
   "metadata": {},
   "outputs": [
    {
     "data": {
      "text/plain": [
       "0       80000\n",
       "1      425000\n",
       "2      325000\n",
       "3      575000\n",
       "4      175000\n",
       "        ...  \n",
       "810    270000\n",
       "811    110000\n",
       "812    300000\n",
       "813    260000\n",
       "814    390000\n",
       "Name: Price, Length: 815, dtype: int32"
      ]
     },
     "execution_count": 196,
     "metadata": {},
     "output_type": "execute_result"
    }
   ],
   "source": [
    "y"
   ]
  },
  {
   "cell_type": "code",
   "execution_count": 197,
   "id": "f44c56ea",
   "metadata": {},
   "outputs": [
    {
     "data": {
      "text/plain": [
       "((815, 5), (815,))"
      ]
     },
     "execution_count": 197,
     "metadata": {},
     "output_type": "execute_result"
    }
   ],
   "source": [
    "x.shape,y.shape"
   ]
  },
  {
   "cell_type": "code",
   "execution_count": 198,
   "id": "c9935b17",
   "metadata": {},
   "outputs": [],
   "source": [
    "# splitting the data into training and testing\n",
    "x_train, x_test, y_train, y_test = train_test_split(x,y,test_size=0.2)"
   ]
  },
  {
   "cell_type": "code",
   "execution_count": 199,
   "id": "f3bf2cdd",
   "metadata": {},
   "outputs": [
    {
     "data": {
      "text/plain": [
       "((652, 5), (163, 5), (652,), (163,))"
      ]
     },
     "execution_count": 199,
     "metadata": {},
     "output_type": "execute_result"
    }
   ],
   "source": [
    "x_train.shape,x_test.shape,y_train.shape,y_test.shape"
   ]
  },
  {
   "cell_type": "code",
   "execution_count": 200,
   "id": "3c905bd9",
   "metadata": {},
   "outputs": [
    {
     "data": {
      "text/plain": [
       "OneHotEncoder()"
      ]
     },
     "execution_count": 200,
     "metadata": {},
     "output_type": "execute_result"
    }
   ],
   "source": [
    "ohe = OneHotEncoder()\n",
    "ohe.fit(x[['name','company','fuel_type']])"
   ]
  },
  {
   "cell_type": "code",
   "execution_count": 201,
   "id": "4a4f469f",
   "metadata": {},
   "outputs": [
    {
     "data": {
      "text/plain": [
       "[array(['Audi A3 Cabriolet', 'Audi A4 1.8', 'Audi A4 2.0', 'Audi A6 2.0',\n",
       "        'Audi A8', 'Audi Q3 2.0', 'Audi Q5 2.0', 'Audi Q7', 'BMW 3 Series',\n",
       "        'BMW 5 Series', 'BMW 7 Series', 'BMW X1', 'BMW X1 sDrive20d',\n",
       "        'BMW X1 xDrive20d', 'Chevrolet Beat', 'Chevrolet Beat Diesel',\n",
       "        'Chevrolet Beat LS', 'Chevrolet Beat LT', 'Chevrolet Beat PS',\n",
       "        'Chevrolet Cruze LTZ', 'Chevrolet Enjoy', 'Chevrolet Enjoy 1.4',\n",
       "        'Chevrolet Sail 1.2', 'Chevrolet Sail UVA', 'Chevrolet Spark',\n",
       "        'Chevrolet Spark 1.0', 'Chevrolet Spark LS', 'Chevrolet Spark LT',\n",
       "        'Chevrolet Tavera LS', 'Chevrolet Tavera Neo', 'Datsun GO T',\n",
       "        'Datsun Go Plus', 'Datsun Redi GO', 'Fiat Linea Emotion',\n",
       "        'Fiat Petra ELX', 'Fiat Punto Emotion', 'Force Motors Force',\n",
       "        'Force Motors One', 'Ford EcoSport', 'Ford EcoSport Ambiente',\n",
       "        'Ford EcoSport Titanium', 'Ford EcoSport Trend',\n",
       "        'Ford Endeavor 4x4', 'Ford Fiesta', 'Ford Fiesta SXi', 'Ford Figo',\n",
       "        'Ford Figo Diesel', 'Ford Figo Duratorq', 'Ford Figo Petrol',\n",
       "        'Ford Fusion 1.4', 'Ford Ikon 1.3', 'Ford Ikon 1.6',\n",
       "        'Hindustan Motors Ambassador', 'Honda Accord', 'Honda Amaze',\n",
       "        'Honda Amaze 1.2', 'Honda Amaze 1.5', 'Honda Brio', 'Honda Brio V',\n",
       "        'Honda Brio VX', 'Honda City', 'Honda City 1.5', 'Honda City SV',\n",
       "        'Honda City VX', 'Honda City ZX', 'Honda Jazz S', 'Honda Jazz VX',\n",
       "        'Honda Mobilio', 'Honda Mobilio S', 'Honda WR V', 'Hyundai Accent',\n",
       "        'Hyundai Accent Executive', 'Hyundai Accent GLE',\n",
       "        'Hyundai Accent GLX', 'Hyundai Creta', 'Hyundai Creta 1.6',\n",
       "        'Hyundai Elantra 1.8', 'Hyundai Elantra SX', 'Hyundai Elite i20',\n",
       "        'Hyundai Eon', 'Hyundai Eon D', 'Hyundai Eon Era',\n",
       "        'Hyundai Eon Magna', 'Hyundai Eon Sportz', 'Hyundai Fluidic Verna',\n",
       "        'Hyundai Getz', 'Hyundai Getz GLE', 'Hyundai Getz Prime',\n",
       "        'Hyundai Grand i10', 'Hyundai Santro', 'Hyundai Santro AE',\n",
       "        'Hyundai Santro Xing', 'Hyundai Sonata Transform', 'Hyundai Verna',\n",
       "        'Hyundai Verna 1.4', 'Hyundai Verna 1.6', 'Hyundai Verna Fluidic',\n",
       "        'Hyundai Verna Transform', 'Hyundai Verna VGT',\n",
       "        'Hyundai Xcent Base', 'Hyundai Xcent SX', 'Hyundai i10',\n",
       "        'Hyundai i10 Era', 'Hyundai i10 Magna', 'Hyundai i10 Sportz',\n",
       "        'Hyundai i20', 'Hyundai i20 Active', 'Hyundai i20 Asta',\n",
       "        'Hyundai i20 Magna', 'Hyundai i20 Select', 'Hyundai i20 Sportz',\n",
       "        'Jaguar XE XE', 'Jaguar XF 2.2', 'Jeep Wrangler Unlimited',\n",
       "        'Land Rover Freelander', 'Mahindra Bolero DI',\n",
       "        'Mahindra Bolero Power', 'Mahindra Bolero SLE',\n",
       "        'Mahindra Jeep CL550', 'Mahindra Jeep MM', 'Mahindra KUV100',\n",
       "        'Mahindra KUV100 K8', 'Mahindra Logan', 'Mahindra Logan Diesel',\n",
       "        'Mahindra Quanto C4', 'Mahindra Quanto C8', 'Mahindra Scorpio',\n",
       "        'Mahindra Scorpio 2.6', 'Mahindra Scorpio LX',\n",
       "        'Mahindra Scorpio S10', 'Mahindra Scorpio S4',\n",
       "        'Mahindra Scorpio SLE', 'Mahindra Scorpio SLX',\n",
       "        'Mahindra Scorpio VLX', 'Mahindra Scorpio Vlx',\n",
       "        'Mahindra Scorpio W', 'Mahindra TUV300 T4', 'Mahindra TUV300 T8',\n",
       "        'Mahindra Thar CRDe', 'Mahindra XUV500', 'Mahindra XUV500 W10',\n",
       "        'Mahindra XUV500 W6', 'Mahindra XUV500 W8', 'Mahindra Xylo D2',\n",
       "        'Mahindra Xylo E4', 'Mahindra Xylo E8', 'Maruti Suzuki 800',\n",
       "        'Maruti Suzuki A', 'Maruti Suzuki Alto', 'Maruti Suzuki Baleno',\n",
       "        'Maruti Suzuki Celerio', 'Maruti Suzuki Ciaz',\n",
       "        'Maruti Suzuki Dzire', 'Maruti Suzuki Eeco',\n",
       "        'Maruti Suzuki Ertiga', 'Maruti Suzuki Esteem',\n",
       "        'Maruti Suzuki Estilo', 'Maruti Suzuki Maruti',\n",
       "        'Maruti Suzuki Omni', 'Maruti Suzuki Ritz', 'Maruti Suzuki S',\n",
       "        'Maruti Suzuki SX4', 'Maruti Suzuki Stingray',\n",
       "        'Maruti Suzuki Swift', 'Maruti Suzuki Versa',\n",
       "        'Maruti Suzuki Vitara', 'Maruti Suzuki Wagon', 'Maruti Suzuki Zen',\n",
       "        'Mercedes Benz A', 'Mercedes Benz B', 'Mercedes Benz C',\n",
       "        'Mercedes Benz GLA', 'Mini Cooper S', 'Mitsubishi Lancer 1.8',\n",
       "        'Mitsubishi Pajero Sport', 'Nissan Micra XL', 'Nissan Micra XV',\n",
       "        'Nissan Sunny', 'Nissan Sunny XL', 'Nissan Terrano XL',\n",
       "        'Nissan X Trail', 'Renault Duster', 'Renault Duster 110',\n",
       "        'Renault Duster 110PS', 'Renault Duster 85', 'Renault Duster 85PS',\n",
       "        'Renault Duster RxL', 'Renault Kwid', 'Renault Kwid 1.0',\n",
       "        'Renault Kwid RXT', 'Renault Lodgy 85', 'Renault Scala RxL',\n",
       "        'Skoda Fabia', 'Skoda Fabia 1.2L', 'Skoda Fabia Classic',\n",
       "        'Skoda Laura', 'Skoda Octavia Classic', 'Skoda Rapid Elegance',\n",
       "        'Skoda Superb 1.8', 'Skoda Yeti Ambition', 'Tata Aria Pleasure',\n",
       "        'Tata Bolt XM', 'Tata Indica', 'Tata Indica V2', 'Tata Indica eV2',\n",
       "        'Tata Indigo CS', 'Tata Indigo LS', 'Tata Indigo LX',\n",
       "        'Tata Indigo Marina', 'Tata Indigo eCS', 'Tata Manza',\n",
       "        'Tata Manza Aqua', 'Tata Manza Aura', 'Tata Manza ELAN',\n",
       "        'Tata Nano', 'Tata Nano Cx', 'Tata Nano GenX', 'Tata Nano LX',\n",
       "        'Tata Nano Lx', 'Tata Sumo Gold', 'Tata Sumo Grande',\n",
       "        'Tata Sumo Victa', 'Tata Tiago Revotorq', 'Tata Tiago Revotron',\n",
       "        'Tata Tigor Revotron', 'Tata Venture EX', 'Tata Vista Quadrajet',\n",
       "        'Tata Zest Quadrajet', 'Tata Zest XE', 'Tata Zest XM',\n",
       "        'Toyota Corolla', 'Toyota Corolla Altis', 'Toyota Corolla H2',\n",
       "        'Toyota Etios', 'Toyota Etios G', 'Toyota Etios GD',\n",
       "        'Toyota Etios Liva', 'Toyota Fortuner', 'Toyota Fortuner 3.0',\n",
       "        'Toyota Innova 2.0', 'Toyota Innova 2.5', 'Toyota Qualis',\n",
       "        'Volkswagen Jetta Comfortline', 'Volkswagen Jetta Highline',\n",
       "        'Volkswagen Passat Diesel', 'Volkswagen Polo',\n",
       "        'Volkswagen Polo Comfortline', 'Volkswagen Polo Highline',\n",
       "        'Volkswagen Polo Highline1.2L', 'Volkswagen Polo Trendline',\n",
       "        'Volkswagen Vento Comfortline', 'Volkswagen Vento Highline',\n",
       "        'Volkswagen Vento Konekt', 'Volvo S80 Summum'], dtype=object),\n",
       " array(['Audi', 'BMW', 'Chevrolet', 'Datsun', 'Fiat', 'Force', 'Ford',\n",
       "        'Hindustan', 'Honda', 'Hyundai', 'Jaguar', 'Jeep', 'Land',\n",
       "        'Mahindra', 'Maruti', 'Mercedes', 'Mini', 'Mitsubishi', 'Nissan',\n",
       "        'Renault', 'Skoda', 'Tata', 'Toyota', 'Volkswagen', 'Volvo'],\n",
       "       dtype=object),\n",
       " array(['Diesel', 'LPG', 'Petrol'], dtype=object)]"
      ]
     },
     "execution_count": 201,
     "metadata": {},
     "output_type": "execute_result"
    }
   ],
   "source": [
    "ohe.categories_"
   ]
  },
  {
   "cell_type": "code",
   "execution_count": 202,
   "id": "5387577b",
   "metadata": {},
   "outputs": [],
   "source": [
    "column_trans = make_column_transformer((OneHotEncoder(categories=ohe.categories_),['name','company','fuel_type'])\n",
    "                                       ,remainder='passthrough')"
   ]
  },
  {
   "cell_type": "markdown",
   "id": "161863b6",
   "metadata": {},
   "source": [
    "### model building"
   ]
  },
  {
   "cell_type": "code",
   "execution_count": 203,
   "id": "286bfbf0",
   "metadata": {},
   "outputs": [],
   "source": [
    "lr = LinearRegression()"
   ]
  },
  {
   "cell_type": "code",
   "execution_count": 204,
   "id": "c0307a66",
   "metadata": {},
   "outputs": [],
   "source": [
    "pipe = make_pipeline(column_trans,lr)"
   ]
  },
  {
   "cell_type": "code",
   "execution_count": 205,
   "id": "038201e3",
   "metadata": {},
   "outputs": [
    {
     "data": {
      "text/plain": [
       "Pipeline(steps=[('columntransformer',\n",
       "                 ColumnTransformer(remainder='passthrough',\n",
       "                                   transformers=[('onehotencoder',\n",
       "                                                  OneHotEncoder(categories=[array(['Audi A3 Cabriolet', 'Audi A4 1.8', 'Audi A4 2.0', 'Audi A6 2.0',\n",
       "       'Audi A8', 'Audi Q3 2.0', 'Audi Q5 2.0', 'Audi Q7', 'BMW 3 Series',\n",
       "       'BMW 5 Series', 'BMW 7 Series', 'BMW X1', 'BMW X1 sDrive20d',\n",
       "       'BMW X1 xDrive20d', 'Chevrolet Beat', 'Chevrolet Beat...\n",
       "                                                                            array(['Audi', 'BMW', 'Chevrolet', 'Datsun', 'Fiat', 'Force', 'Ford',\n",
       "       'Hindustan', 'Honda', 'Hyundai', 'Jaguar', 'Jeep', 'Land',\n",
       "       'Mahindra', 'Maruti', 'Mercedes', 'Mini', 'Mitsubishi', 'Nissan',\n",
       "       'Renault', 'Skoda', 'Tata', 'Toyota', 'Volkswagen', 'Volvo'],\n",
       "      dtype=object),\n",
       "                                                                            array(['Diesel', 'LPG', 'Petrol'], dtype=object)]),\n",
       "                                                  ['name', 'company',\n",
       "                                                   'fuel_type'])])),\n",
       "                ('linearregression', LinearRegression())])"
      ]
     },
     "execution_count": 205,
     "metadata": {},
     "output_type": "execute_result"
    }
   ],
   "source": [
    "pipe.fit(x_train,y_train)"
   ]
  },
  {
   "cell_type": "code",
   "execution_count": 206,
   "id": "237817b0",
   "metadata": {},
   "outputs": [
    {
     "data": {
      "text/plain": [
       "array([ 192438.05715789,  355995.86586395,  509787.16406844,\n",
       "        371522.90206605,  531205.70432525,  521412.45410097,\n",
       "        227837.16019847,  155878.37190185,  274849.77417351,\n",
       "        730854.24966621,  368556.35859735,  474274.60396348,\n",
       "         90427.97776546,  757185.65415009,  491045.25373667,\n",
       "        417215.86216392,  486557.6140253 ,  248587.74395389,\n",
       "       1109947.86783996,  229855.87525176,  607887.32855502,\n",
       "        377732.34140296,  778902.44939224,  626127.40788216,\n",
       "        174707.4592602 ,  156254.04270522,  521726.19379222,\n",
       "        301617.46399695,  197834.86218472,  252276.22331896,\n",
       "       1085326.64593254,  114800.90265489,  243303.15565546,\n",
       "        724426.90897612, 1180900.1862401 ,  318054.06518511,\n",
       "         76991.44768523,  390395.62423458,  250837.17394167,\n",
       "         93088.20647058,  285543.72420117,  226070.49257085,\n",
       "        698593.78099873,  429082.91792532,  470951.56839979,\n",
       "        784079.95473852,  308108.21024048,  205282.50782152,\n",
       "        304865.50719585,  184281.94641449,  439853.56725057,\n",
       "         42213.79501992,  329331.6459078 ,  824449.94104444,\n",
       "        281130.99578249,  191504.42609667,  733806.33740124,\n",
       "        142739.02366773,  364596.88021306,  448816.09950432,\n",
       "        457413.64701765,   76358.11802859,  227709.97482758,\n",
       "        724426.90897612,  392310.76743672,  449793.46458618,\n",
       "        377896.65638959,  324439.54037949,  222243.37819769,\n",
       "         91310.19488359,  303178.64946373,  325254.82576375,\n",
       "        397957.03758764,  326613.63473753,  294835.11920856,\n",
       "       1733972.61036845,  179815.92445529,  -20798.46702801,\n",
       "        368265.93618971,  286003.43818203,  195533.93456102,\n",
       "       1449552.97879849,  296868.13363557,  675282.91778281,\n",
       "        196143.46603547,  608254.20697793,  486681.32578903,\n",
       "        454611.83915728,  400321.7585408 , 1483007.1888835 ,\n",
       "        471559.92269728,  203268.30415554,  291362.71954164,\n",
       "        425460.07911065,  258250.90583072,   94700.22665289,\n",
       "        385747.00877333,  231827.67766781,   84410.52010354,\n",
       "        510304.47227045,  337051.80449668,  344303.42682758,\n",
       "        522479.40479395,  235496.46189699,  363038.30319069,\n",
       "        279271.08826151,   32995.44880424,  742189.49310369,\n",
       "        540860.95422906,  369340.18681769,  349315.60744931,\n",
       "        123913.18975963,  884675.09824948,  231963.55856519,\n",
       "        570339.3731938 ,  379119.58446599,  245020.38986067,\n",
       "         85153.99618839,  227922.85153563, 1371357.73942205,\n",
       "        424938.80238191,  324439.54037949,  331685.76713889,\n",
       "        222177.3894871 ,  587105.75701793,  138519.18433052,\n",
       "        826330.65578152,   84926.41721231,  243827.1252544 ,\n",
       "        382305.57555535,  219719.86361814,  465202.90026417,\n",
       "        310161.46108774,  542955.14801637,  307704.05101129,\n",
       "         49798.14778092,  708030.14424945,  197834.86218472,\n",
       "        362227.32539002,  183503.27398067,  465920.40509892,\n",
       "        551296.64374243,  426578.4208576 ,  349289.4040126 ,\n",
       "        393441.2965029 ,  292450.47875251,  155849.08066016,\n",
       "        557014.09354201,  361229.58487727,  236447.62817863,\n",
       "       1149289.51744141,  292450.47875251,  522479.40479395,\n",
       "        132633.87945395,  290425.38053207, 1064825.31790353,\n",
       "        132089.94822175,  211935.25841906,  228971.09461711,\n",
       "       1433405.2470986 ,  355961.25234201,  303291.04710718,\n",
       "         76705.29112993])"
      ]
     },
     "execution_count": 206,
     "metadata": {},
     "output_type": "execute_result"
    }
   ],
   "source": [
    "y_pred = pipe.predict(x_test)\n",
    "y_pred\n",
    "# predicted values"
   ]
  },
  {
   "cell_type": "code",
   "execution_count": 207,
   "id": "c99f7030",
   "metadata": {},
   "outputs": [
    {
     "data": {
      "text/plain": [
       "659     270000\n",
       "250     329500\n",
       "148     474999\n",
       "30      180000\n",
       "338     574999\n",
       "        ...   \n",
       "458     290000\n",
       "636    1900000\n",
       "106     345000\n",
       "582     315000\n",
       "279      75000\n",
       "Name: Price, Length: 163, dtype: int32"
      ]
     },
     "execution_count": 207,
     "metadata": {},
     "output_type": "execute_result"
    }
   ],
   "source": [
    "# actual values\n",
    "y_test"
   ]
  },
  {
   "cell_type": "code",
   "execution_count": 208,
   "id": "636019b0",
   "metadata": {},
   "outputs": [],
   "source": [
    "scores=[]\n",
    "for i in range(1000):\n",
    "    x_train, x_test, y_train, y_test = train_test_split(x,y,test_size=0.2,random_state=i)\n",
    "    lr = LinearRegression()\n",
    "    pipe = make_pipeline(column_trans,lr)\n",
    "    pipe.fit(x_train,y_train)\n",
    "    y_pred = pipe.predict(x_test)\n",
    "    scores.append(r2_score(y_test,y_pred))"
   ]
  },
  {
   "cell_type": "code",
   "execution_count": 209,
   "id": "648b6fbe",
   "metadata": {},
   "outputs": [
    {
     "data": {
      "text/plain": [
       "661"
      ]
     },
     "execution_count": 209,
     "metadata": {},
     "output_type": "execute_result"
    }
   ],
   "source": [
    "np.argmax(scores)"
   ]
  },
  {
   "cell_type": "code",
   "execution_count": 210,
   "id": "70063401",
   "metadata": {},
   "outputs": [
    {
     "data": {
      "text/plain": [
       "0.889770931767991"
      ]
     },
     "execution_count": 210,
     "metadata": {},
     "output_type": "execute_result"
    }
   ],
   "source": [
    "scores[np.argmax(scores)]"
   ]
  },
  {
   "cell_type": "code",
   "execution_count": 211,
   "id": "bf4e2085",
   "metadata": {},
   "outputs": [
    {
     "data": {
      "text/plain": [
       "0.889770931767991"
      ]
     },
     "execution_count": 211,
     "metadata": {},
     "output_type": "execute_result"
    }
   ],
   "source": [
    "x_train, x_test, y_train, y_test = train_test_split(x,y,test_size=0.2,random_state=np.argmax(scores))\n",
    "lr=LinearRegression()\n",
    "pipe = make_pipeline(column_trans,lr)\n",
    "pipe.fit(x_train,y_train)\n",
    "y_pred = pipe.predict(x_test)\n",
    "r2_score(y_test,y_pred)"
   ]
  },
  {
   "cell_type": "code",
   "execution_count": null,
   "id": "45e5c92c",
   "metadata": {},
   "outputs": [],
   "source": []
  }
 ],
 "metadata": {
  "kernelspec": {
   "display_name": "Python 3",
   "language": "python",
   "name": "python3"
  },
  "language_info": {
   "codemirror_mode": {
    "name": "ipython",
    "version": 3
   },
   "file_extension": ".py",
   "mimetype": "text/x-python",
   "name": "python",
   "nbconvert_exporter": "python",
   "pygments_lexer": "ipython3",
   "version": "3.8.8"
  },
  "toc": {
   "base_numbering": 1,
   "nav_menu": {},
   "number_sections": true,
   "sideBar": true,
   "skip_h1_title": false,
   "title_cell": "Table of Contents",
   "title_sidebar": "Contents",
   "toc_cell": false,
   "toc_position": {
    "height": "calc(100% - 180px)",
    "left": "10px",
    "top": "150px",
    "width": "165px"
   },
   "toc_section_display": true,
   "toc_window_display": true
  }
 },
 "nbformat": 4,
 "nbformat_minor": 5
}
